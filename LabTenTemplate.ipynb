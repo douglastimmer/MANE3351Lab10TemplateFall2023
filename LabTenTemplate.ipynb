{
 "cells": [
  {
   "cell_type": "markdown",
   "id": "6f28487f",
   "metadata": {},
   "source": [
    "# MANE 3351\n",
    "## Lab 10\n",
    "### Your Name"
   ]
  },
  {
   "cell_type": "code",
   "execution_count": 12,
   "id": "4b3958f7",
   "metadata": {},
   "outputs": [
    {
     "name": "stdout",
     "output_type": "stream",
     "text": [
      "[[ 9.95]\n",
      " [24.45]\n",
      " [31.75]\n",
      " [35.  ]\n",
      " [25.02]\n",
      " [16.86]\n",
      " [14.38]\n",
      " [ 9.6 ]\n",
      " [24.35]\n",
      " [27.5 ]\n",
      " [17.08]\n",
      " [37.  ]\n",
      " [41.95]]\n",
      "[[  1   2  50]\n",
      " [  1   8 110]\n",
      " [  1  11 120]\n",
      " [  1  10 550]\n",
      " [  1   8 295]\n",
      " [  1   4 200]\n",
      " [  1   2 375]\n",
      " [  1   2  52]\n",
      " [  1   9 100]\n",
      " [  1   8 300]\n",
      " [  1   4 412]\n",
      " [  1  11 400]\n",
      " [  1  12 500]]\n"
     ]
    }
   ],
   "source": [
    "import numpy as np\n",
    "from scipy import linalg\n",
    "\n",
    "Y=np.mat([[9.95],[24.45],[31.75],[35.0],[25.02],[16.86],[14.38],[9.6],[24.35],[27.5],[17.08],[37.0],[41.95]])\n",
    "print(Y)\n",
    "\n",
    "Z=np.mat([[1,2,50],[1,8,110],[1,11,120],[1,10,550],[1,8,295],[1,4,200],[1,2,375],[1,2,52],[1,9,100],[1,8,300],[1,4,412],[1,11,400],[1,12,500]])\n",
    "print(Z)"
   ]
  },
  {
   "cell_type": "code",
   "execution_count": null,
   "id": "47d11ad8",
   "metadata": {},
   "outputs": [],
   "source": []
  }
 ],
 "metadata": {
  "kernelspec": {
   "display_name": "Python 3 (ipykernel)",
   "language": "python",
   "name": "python3"
  },
  "language_info": {
   "codemirror_mode": {
    "name": "ipython",
    "version": 3
   },
   "file_extension": ".py",
   "mimetype": "text/x-python",
   "name": "python",
   "nbconvert_exporter": "python",
   "pygments_lexer": "ipython3",
   "version": "3.10.12"
  }
 },
 "nbformat": 4,
 "nbformat_minor": 5
}
